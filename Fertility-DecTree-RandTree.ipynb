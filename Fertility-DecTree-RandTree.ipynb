{
 "cells": [
  {
   "cell_type": "code",
   "execution_count": 17,
   "metadata": {},
   "outputs": [],
   "source": [
    "import pandas as pd\n",
    "import numpy as np\n",
    "from sklearn.preprocessing import MinMaxScaler\n",
    "import matplotlib.pyplot as plt\n",
    "import seaborn as sns\n",
    "from sklearn.model_selection import train_test_split, GridSearchCV, cross_val_score, validation_curve\n",
    "from sklearn.metrics import accuracy_score, zero_one_loss, classification_report, confusion_matrix, precision_score, recall_score, f1_score,plot_roc_curve, plot_confusion_matrix"
   ]
  },
  {
   "cell_type": "markdown",
   "metadata": {},
   "source": [
    "## Decision tree classifier and a random forest classifier\n",
    "### Research question"
   ]
  },
  {
   "cell_type": "markdown",
   "metadata": {},
   "source": [
    "#### Are decision trees and random forest good models for predicting whether someone will want more kids based on their age, ethinicity, work hours, and gender of their 1st child?"
   ]
  },
  {
   "cell_type": "markdown",
   "metadata": {},
   "source": [
    "https://vincentarelbundock.github.io/Rdatasets/doc/AER/Fertility.html\n",
    "\n",
    "A data frame containing 254,654 (and 30,000, respectively) observations on 8 variables.\n",
    "\n",
    "morekids\n",
    "factor. Does the mother have more than 2 children?\n",
    "\n",
    "gender1\n",
    "factor indicating gender of first child.\n",
    "\n",
    "gender2\n",
    "factor indicating gender of second child.\n",
    "\n",
    "age\n",
    "age of mother at census.\n",
    "\n",
    "afam\n",
    "factor. Is the mother African-American?\n",
    "\n",
    "hispanic\n",
    "factor. Is the mother Hispanic?\n",
    "\n",
    "other\n",
    "factor. Is the mother's ethnicity neither African-American nor Hispanic, nor Caucasian? (see below)\n",
    "\n",
    "work\n",
    "number of weeks in which the mother worked in 1979."
   ]
  },
  {
   "cell_type": "markdown",
   "metadata": {},
   "source": [
    "### Data pre-processing "
   ]
  },
  {
   "cell_type": "code",
   "execution_count": 3,
   "metadata": {},
   "outputs": [
    {
     "data": {
      "text/html": [
       "<div>\n",
       "<style scoped>\n",
       "    .dataframe tbody tr th:only-of-type {\n",
       "        vertical-align: middle;\n",
       "    }\n",
       "\n",
       "    .dataframe tbody tr th {\n",
       "        vertical-align: top;\n",
       "    }\n",
       "\n",
       "    .dataframe thead th {\n",
       "        text-align: right;\n",
       "    }\n",
       "</style>\n",
       "<table border=\"1\" class=\"dataframe\">\n",
       "  <thead>\n",
       "    <tr style=\"text-align: right;\">\n",
       "      <th></th>\n",
       "      <th>morekids</th>\n",
       "      <th>gender1</th>\n",
       "      <th>gender2</th>\n",
       "      <th>age</th>\n",
       "      <th>afam</th>\n",
       "      <th>hispanic</th>\n",
       "      <th>other</th>\n",
       "      <th>work</th>\n",
       "    </tr>\n",
       "  </thead>\n",
       "  <tbody>\n",
       "    <tr>\n",
       "      <th>0</th>\n",
       "      <td>0</td>\n",
       "      <td>1</td>\n",
       "      <td>0</td>\n",
       "      <td>27</td>\n",
       "      <td>0</td>\n",
       "      <td>0</td>\n",
       "      <td>0</td>\n",
       "      <td>0</td>\n",
       "    </tr>\n",
       "    <tr>\n",
       "      <th>1</th>\n",
       "      <td>0</td>\n",
       "      <td>0</td>\n",
       "      <td>1</td>\n",
       "      <td>30</td>\n",
       "      <td>0</td>\n",
       "      <td>0</td>\n",
       "      <td>0</td>\n",
       "      <td>30</td>\n",
       "    </tr>\n",
       "    <tr>\n",
       "      <th>2</th>\n",
       "      <td>0</td>\n",
       "      <td>1</td>\n",
       "      <td>0</td>\n",
       "      <td>27</td>\n",
       "      <td>0</td>\n",
       "      <td>0</td>\n",
       "      <td>0</td>\n",
       "      <td>0</td>\n",
       "    </tr>\n",
       "    <tr>\n",
       "      <th>3</th>\n",
       "      <td>0</td>\n",
       "      <td>1</td>\n",
       "      <td>0</td>\n",
       "      <td>35</td>\n",
       "      <td>1</td>\n",
       "      <td>0</td>\n",
       "      <td>0</td>\n",
       "      <td>0</td>\n",
       "    </tr>\n",
       "    <tr>\n",
       "      <th>4</th>\n",
       "      <td>0</td>\n",
       "      <td>0</td>\n",
       "      <td>0</td>\n",
       "      <td>30</td>\n",
       "      <td>0</td>\n",
       "      <td>0</td>\n",
       "      <td>0</td>\n",
       "      <td>22</td>\n",
       "    </tr>\n",
       "    <tr>\n",
       "      <th>...</th>\n",
       "      <td>...</td>\n",
       "      <td>...</td>\n",
       "      <td>...</td>\n",
       "      <td>...</td>\n",
       "      <td>...</td>\n",
       "      <td>...</td>\n",
       "      <td>...</td>\n",
       "      <td>...</td>\n",
       "    </tr>\n",
       "    <tr>\n",
       "      <th>254649</th>\n",
       "      <td>1</td>\n",
       "      <td>0</td>\n",
       "      <td>0</td>\n",
       "      <td>35</td>\n",
       "      <td>0</td>\n",
       "      <td>0</td>\n",
       "      <td>0</td>\n",
       "      <td>0</td>\n",
       "    </tr>\n",
       "    <tr>\n",
       "      <th>254650</th>\n",
       "      <td>1</td>\n",
       "      <td>1</td>\n",
       "      <td>1</td>\n",
       "      <td>29</td>\n",
       "      <td>0</td>\n",
       "      <td>0</td>\n",
       "      <td>0</td>\n",
       "      <td>0</td>\n",
       "    </tr>\n",
       "    <tr>\n",
       "      <th>254651</th>\n",
       "      <td>1</td>\n",
       "      <td>0</td>\n",
       "      <td>1</td>\n",
       "      <td>34</td>\n",
       "      <td>0</td>\n",
       "      <td>0</td>\n",
       "      <td>0</td>\n",
       "      <td>38</td>\n",
       "    </tr>\n",
       "    <tr>\n",
       "      <th>254652</th>\n",
       "      <td>1</td>\n",
       "      <td>0</td>\n",
       "      <td>0</td>\n",
       "      <td>30</td>\n",
       "      <td>0</td>\n",
       "      <td>0</td>\n",
       "      <td>0</td>\n",
       "      <td>26</td>\n",
       "    </tr>\n",
       "    <tr>\n",
       "      <th>254653</th>\n",
       "      <td>1</td>\n",
       "      <td>0</td>\n",
       "      <td>0</td>\n",
       "      <td>35</td>\n",
       "      <td>0</td>\n",
       "      <td>0</td>\n",
       "      <td>0</td>\n",
       "      <td>0</td>\n",
       "    </tr>\n",
       "  </tbody>\n",
       "</table>\n",
       "<p>254654 rows × 8 columns</p>\n",
       "</div>"
      ],
      "text/plain": [
       "        morekids  gender1  gender2  age  afam  hispanic  other  work\n",
       "0              0        1        0   27     0         0      0     0\n",
       "1              0        0        1   30     0         0      0    30\n",
       "2              0        1        0   27     0         0      0     0\n",
       "3              0        1        0   35     1         0      0     0\n",
       "4              0        0        0   30     0         0      0    22\n",
       "...          ...      ...      ...  ...   ...       ...    ...   ...\n",
       "254649         1        0        0   35     0         0      0     0\n",
       "254650         1        1        1   29     0         0      0     0\n",
       "254651         1        0        1   34     0         0      0    38\n",
       "254652         1        0        0   30     0         0      0    26\n",
       "254653         1        0        0   35     0         0      0     0\n",
       "\n",
       "[254654 rows x 8 columns]"
      ]
     },
     "execution_count": 3,
     "metadata": {},
     "output_type": "execute_result"
    }
   ],
   "source": [
    "kids=pd.read_csv(\"https://vincentarelbundock.github.io/Rdatasets/csv/AER/Fertility.csv\")\n",
    "kids.drop(columns=['Unnamed: 0'], inplace=True)\n",
    "kids[['morekids', 'afam', 'hispanic', 'other']]=kids[['morekids', 'afam', 'hispanic', 'other']].eq('yes').mul(1)\n",
    "kids[['gender1', 'gender2']]=kids[['gender1', 'gender2']].eq('male').mul(1)\n",
    "kids"
   ]
  },
  {
   "cell_type": "code",
   "execution_count": 4,
   "metadata": {},
   "outputs": [
    {
     "data": {
      "text/plain": [
       "morekids    0\n",
       "gender1     0\n",
       "gender2     0\n",
       "age         0\n",
       "afam        0\n",
       "hispanic    0\n",
       "other       0\n",
       "work        0\n",
       "dtype: int64"
      ]
     },
     "execution_count": 4,
     "metadata": {},
     "output_type": "execute_result"
    }
   ],
   "source": [
    "#Check for null values\n",
    "kids.isnull().sum()"
   ]
  },
  {
   "cell_type": "code",
   "execution_count": 5,
   "metadata": {},
   "outputs": [
    {
     "name": "stdout",
     "output_type": "stream",
     "text": [
      "morekids : \n",
      "[0 1]\n",
      "\n",
      "gender1 : \n",
      "[1 0]\n",
      "\n",
      "gender2 : \n",
      "[0 1]\n",
      "\n",
      "age : \n",
      "[27 30 35 26 29 33 28 34 32 24 31 21 25 23 22]\n",
      "\n",
      "afam : \n",
      "[0 1]\n",
      "\n",
      "hispanic : \n",
      "[0 1]\n",
      "\n",
      "other : \n",
      "[0 1]\n",
      "\n",
      "work : \n",
      "[ 0 30 22 40 52  8  7 20 12 37 42 51 17 21 34 50 48 36 49 26 18  4 32  5\n",
      "  3  6 46  2 38 28 13 39 10 19 44 11 15 14 24 25 16  1  9 45 47 35 29 33\n",
      " 43 23 41 27 31]\n",
      "\n"
     ]
    }
   ],
   "source": [
    "# Understanding the different values for each column\n",
    "columns=list(kids.columns)\n",
    "for col in columns:\n",
    "    print(col, \": \")\n",
    "    print(kids[col].unique())\n",
    "    print()"
   ]
  },
  {
   "cell_type": "code",
   "execution_count": 6,
   "metadata": {},
   "outputs": [
    {
     "data": {
      "text/html": [
       "<div>\n",
       "<style scoped>\n",
       "    .dataframe tbody tr th:only-of-type {\n",
       "        vertical-align: middle;\n",
       "    }\n",
       "\n",
       "    .dataframe tbody tr th {\n",
       "        vertical-align: top;\n",
       "    }\n",
       "\n",
       "    .dataframe thead th {\n",
       "        text-align: right;\n",
       "    }\n",
       "</style>\n",
       "<table border=\"1\" class=\"dataframe\">\n",
       "  <thead>\n",
       "    <tr style=\"text-align: right;\">\n",
       "      <th></th>\n",
       "      <th>morekids</th>\n",
       "      <th>gender1</th>\n",
       "      <th>gender2</th>\n",
       "      <th>age</th>\n",
       "      <th>afam</th>\n",
       "      <th>hispanic</th>\n",
       "      <th>other</th>\n",
       "      <th>work</th>\n",
       "      <th>genders</th>\n",
       "    </tr>\n",
       "  </thead>\n",
       "  <tbody>\n",
       "    <tr>\n",
       "      <th>0</th>\n",
       "      <td>0</td>\n",
       "      <td>1</td>\n",
       "      <td>0</td>\n",
       "      <td>27</td>\n",
       "      <td>0</td>\n",
       "      <td>0</td>\n",
       "      <td>0</td>\n",
       "      <td>0</td>\n",
       "      <td>MF</td>\n",
       "    </tr>\n",
       "    <tr>\n",
       "      <th>1</th>\n",
       "      <td>0</td>\n",
       "      <td>0</td>\n",
       "      <td>1</td>\n",
       "      <td>30</td>\n",
       "      <td>0</td>\n",
       "      <td>0</td>\n",
       "      <td>0</td>\n",
       "      <td>30</td>\n",
       "      <td>MF</td>\n",
       "    </tr>\n",
       "    <tr>\n",
       "      <th>2</th>\n",
       "      <td>0</td>\n",
       "      <td>1</td>\n",
       "      <td>0</td>\n",
       "      <td>27</td>\n",
       "      <td>0</td>\n",
       "      <td>0</td>\n",
       "      <td>0</td>\n",
       "      <td>0</td>\n",
       "      <td>MF</td>\n",
       "    </tr>\n",
       "    <tr>\n",
       "      <th>3</th>\n",
       "      <td>0</td>\n",
       "      <td>1</td>\n",
       "      <td>0</td>\n",
       "      <td>35</td>\n",
       "      <td>1</td>\n",
       "      <td>0</td>\n",
       "      <td>0</td>\n",
       "      <td>0</td>\n",
       "      <td>MF</td>\n",
       "    </tr>\n",
       "    <tr>\n",
       "      <th>4</th>\n",
       "      <td>0</td>\n",
       "      <td>0</td>\n",
       "      <td>0</td>\n",
       "      <td>30</td>\n",
       "      <td>0</td>\n",
       "      <td>0</td>\n",
       "      <td>0</td>\n",
       "      <td>22</td>\n",
       "      <td>FF</td>\n",
       "    </tr>\n",
       "    <tr>\n",
       "      <th>...</th>\n",
       "      <td>...</td>\n",
       "      <td>...</td>\n",
       "      <td>...</td>\n",
       "      <td>...</td>\n",
       "      <td>...</td>\n",
       "      <td>...</td>\n",
       "      <td>...</td>\n",
       "      <td>...</td>\n",
       "      <td>...</td>\n",
       "    </tr>\n",
       "    <tr>\n",
       "      <th>254649</th>\n",
       "      <td>1</td>\n",
       "      <td>0</td>\n",
       "      <td>0</td>\n",
       "      <td>35</td>\n",
       "      <td>0</td>\n",
       "      <td>0</td>\n",
       "      <td>0</td>\n",
       "      <td>0</td>\n",
       "      <td>FF</td>\n",
       "    </tr>\n",
       "    <tr>\n",
       "      <th>254650</th>\n",
       "      <td>1</td>\n",
       "      <td>1</td>\n",
       "      <td>1</td>\n",
       "      <td>29</td>\n",
       "      <td>0</td>\n",
       "      <td>0</td>\n",
       "      <td>0</td>\n",
       "      <td>0</td>\n",
       "      <td>MM</td>\n",
       "    </tr>\n",
       "    <tr>\n",
       "      <th>254651</th>\n",
       "      <td>1</td>\n",
       "      <td>0</td>\n",
       "      <td>1</td>\n",
       "      <td>34</td>\n",
       "      <td>0</td>\n",
       "      <td>0</td>\n",
       "      <td>0</td>\n",
       "      <td>38</td>\n",
       "      <td>MF</td>\n",
       "    </tr>\n",
       "    <tr>\n",
       "      <th>254652</th>\n",
       "      <td>1</td>\n",
       "      <td>0</td>\n",
       "      <td>0</td>\n",
       "      <td>30</td>\n",
       "      <td>0</td>\n",
       "      <td>0</td>\n",
       "      <td>0</td>\n",
       "      <td>26</td>\n",
       "      <td>FF</td>\n",
       "    </tr>\n",
       "    <tr>\n",
       "      <th>254653</th>\n",
       "      <td>1</td>\n",
       "      <td>0</td>\n",
       "      <td>0</td>\n",
       "      <td>35</td>\n",
       "      <td>0</td>\n",
       "      <td>0</td>\n",
       "      <td>0</td>\n",
       "      <td>0</td>\n",
       "      <td>FF</td>\n",
       "    </tr>\n",
       "  </tbody>\n",
       "</table>\n",
       "<p>254654 rows × 9 columns</p>\n",
       "</div>"
      ],
      "text/plain": [
       "        morekids  gender1  gender2  age  afam  hispanic  other  work genders\n",
       "0              0        1        0   27     0         0      0     0      MF\n",
       "1              0        0        1   30     0         0      0    30      MF\n",
       "2              0        1        0   27     0         0      0     0      MF\n",
       "3              0        1        0   35     1         0      0     0      MF\n",
       "4              0        0        0   30     0         0      0    22      FF\n",
       "...          ...      ...      ...  ...   ...       ...    ...   ...     ...\n",
       "254649         1        0        0   35     0         0      0     0      FF\n",
       "254650         1        1        1   29     0         0      0     0      MM\n",
       "254651         1        0        1   34     0         0      0    38      MF\n",
       "254652         1        0        0   30     0         0      0    26      FF\n",
       "254653         1        0        0   35     0         0      0     0      FF\n",
       "\n",
       "[254654 rows x 9 columns]"
      ]
     },
     "execution_count": 6,
     "metadata": {},
     "output_type": "execute_result"
    }
   ],
   "source": [
    "def gender (x):\n",
    "    g=0\n",
    "    if x[1]==1:\n",
    "        if x[2]==1:\n",
    "            g=\"MM\"\n",
    "            return g\n",
    "        if x[2]==0:\n",
    "            g=\"MF\"\n",
    "            return g\n",
    "    if x[1]==0:\n",
    "        if x[2]==1:\n",
    "            g=\"MF\"\n",
    "            return g\n",
    "        if x[2]==0:\n",
    "            g=\"FF\"\n",
    "            return g\n",
    "kids['genders']=kids.apply(gender, axis=1)\n",
    "kids"
   ]
  },
  {
   "cell_type": "code",
   "execution_count": 7,
   "metadata": {},
   "outputs": [
    {
     "data": {
      "text/html": [
       "<div>\n",
       "<style scoped>\n",
       "    .dataframe tbody tr th:only-of-type {\n",
       "        vertical-align: middle;\n",
       "    }\n",
       "\n",
       "    .dataframe tbody tr th {\n",
       "        vertical-align: top;\n",
       "    }\n",
       "\n",
       "    .dataframe thead th {\n",
       "        text-align: right;\n",
       "    }\n",
       "</style>\n",
       "<table border=\"1\" class=\"dataframe\">\n",
       "  <thead>\n",
       "    <tr style=\"text-align: right;\">\n",
       "      <th></th>\n",
       "      <th>morekids</th>\n",
       "      <th>age</th>\n",
       "      <th>afam</th>\n",
       "      <th>hispanic</th>\n",
       "      <th>other</th>\n",
       "      <th>work</th>\n",
       "      <th>genders_FF</th>\n",
       "      <th>genders_MF</th>\n",
       "      <th>genders_MM</th>\n",
       "    </tr>\n",
       "  </thead>\n",
       "  <tbody>\n",
       "    <tr>\n",
       "      <th>0</th>\n",
       "      <td>0</td>\n",
       "      <td>0.428571</td>\n",
       "      <td>0</td>\n",
       "      <td>0</td>\n",
       "      <td>0</td>\n",
       "      <td>0.000000</td>\n",
       "      <td>0</td>\n",
       "      <td>1</td>\n",
       "      <td>0</td>\n",
       "    </tr>\n",
       "    <tr>\n",
       "      <th>1</th>\n",
       "      <td>0</td>\n",
       "      <td>0.642857</td>\n",
       "      <td>0</td>\n",
       "      <td>0</td>\n",
       "      <td>0</td>\n",
       "      <td>0.576923</td>\n",
       "      <td>0</td>\n",
       "      <td>1</td>\n",
       "      <td>0</td>\n",
       "    </tr>\n",
       "    <tr>\n",
       "      <th>2</th>\n",
       "      <td>0</td>\n",
       "      <td>0.428571</td>\n",
       "      <td>0</td>\n",
       "      <td>0</td>\n",
       "      <td>0</td>\n",
       "      <td>0.000000</td>\n",
       "      <td>0</td>\n",
       "      <td>1</td>\n",
       "      <td>0</td>\n",
       "    </tr>\n",
       "    <tr>\n",
       "      <th>3</th>\n",
       "      <td>0</td>\n",
       "      <td>1.000000</td>\n",
       "      <td>1</td>\n",
       "      <td>0</td>\n",
       "      <td>0</td>\n",
       "      <td>0.000000</td>\n",
       "      <td>0</td>\n",
       "      <td>1</td>\n",
       "      <td>0</td>\n",
       "    </tr>\n",
       "    <tr>\n",
       "      <th>4</th>\n",
       "      <td>0</td>\n",
       "      <td>0.642857</td>\n",
       "      <td>0</td>\n",
       "      <td>0</td>\n",
       "      <td>0</td>\n",
       "      <td>0.423077</td>\n",
       "      <td>1</td>\n",
       "      <td>0</td>\n",
       "      <td>0</td>\n",
       "    </tr>\n",
       "    <tr>\n",
       "      <th>...</th>\n",
       "      <td>...</td>\n",
       "      <td>...</td>\n",
       "      <td>...</td>\n",
       "      <td>...</td>\n",
       "      <td>...</td>\n",
       "      <td>...</td>\n",
       "      <td>...</td>\n",
       "      <td>...</td>\n",
       "      <td>...</td>\n",
       "    </tr>\n",
       "    <tr>\n",
       "      <th>254649</th>\n",
       "      <td>1</td>\n",
       "      <td>1.000000</td>\n",
       "      <td>0</td>\n",
       "      <td>0</td>\n",
       "      <td>0</td>\n",
       "      <td>0.000000</td>\n",
       "      <td>1</td>\n",
       "      <td>0</td>\n",
       "      <td>0</td>\n",
       "    </tr>\n",
       "    <tr>\n",
       "      <th>254650</th>\n",
       "      <td>1</td>\n",
       "      <td>0.571429</td>\n",
       "      <td>0</td>\n",
       "      <td>0</td>\n",
       "      <td>0</td>\n",
       "      <td>0.000000</td>\n",
       "      <td>0</td>\n",
       "      <td>0</td>\n",
       "      <td>1</td>\n",
       "    </tr>\n",
       "    <tr>\n",
       "      <th>254651</th>\n",
       "      <td>1</td>\n",
       "      <td>0.928571</td>\n",
       "      <td>0</td>\n",
       "      <td>0</td>\n",
       "      <td>0</td>\n",
       "      <td>0.730769</td>\n",
       "      <td>0</td>\n",
       "      <td>1</td>\n",
       "      <td>0</td>\n",
       "    </tr>\n",
       "    <tr>\n",
       "      <th>254652</th>\n",
       "      <td>1</td>\n",
       "      <td>0.642857</td>\n",
       "      <td>0</td>\n",
       "      <td>0</td>\n",
       "      <td>0</td>\n",
       "      <td>0.500000</td>\n",
       "      <td>1</td>\n",
       "      <td>0</td>\n",
       "      <td>0</td>\n",
       "    </tr>\n",
       "    <tr>\n",
       "      <th>254653</th>\n",
       "      <td>1</td>\n",
       "      <td>1.000000</td>\n",
       "      <td>0</td>\n",
       "      <td>0</td>\n",
       "      <td>0</td>\n",
       "      <td>0.000000</td>\n",
       "      <td>1</td>\n",
       "      <td>0</td>\n",
       "      <td>0</td>\n",
       "    </tr>\n",
       "  </tbody>\n",
       "</table>\n",
       "<p>254654 rows × 9 columns</p>\n",
       "</div>"
      ],
      "text/plain": [
       "        morekids       age  afam  hispanic  other      work  genders_FF  \\\n",
       "0              0  0.428571     0         0      0  0.000000           0   \n",
       "1              0  0.642857     0         0      0  0.576923           0   \n",
       "2              0  0.428571     0         0      0  0.000000           0   \n",
       "3              0  1.000000     1         0      0  0.000000           0   \n",
       "4              0  0.642857     0         0      0  0.423077           1   \n",
       "...          ...       ...   ...       ...    ...       ...         ...   \n",
       "254649         1  1.000000     0         0      0  0.000000           1   \n",
       "254650         1  0.571429     0         0      0  0.000000           0   \n",
       "254651         1  0.928571     0         0      0  0.730769           0   \n",
       "254652         1  0.642857     0         0      0  0.500000           1   \n",
       "254653         1  1.000000     0         0      0  0.000000           1   \n",
       "\n",
       "        genders_MF  genders_MM  \n",
       "0                1           0  \n",
       "1                1           0  \n",
       "2                1           0  \n",
       "3                1           0  \n",
       "4                0           0  \n",
       "...            ...         ...  \n",
       "254649           0           0  \n",
       "254650           0           1  \n",
       "254651           1           0  \n",
       "254652           0           0  \n",
       "254653           0           0  \n",
       "\n",
       "[254654 rows x 9 columns]"
      ]
     },
     "execution_count": 7,
     "metadata": {},
     "output_type": "execute_result"
    }
   ],
   "source": [
    "#Min max scaling for continuous data\n",
    "cont=['age', 'work']\n",
    "scaler = MinMaxScaler()\n",
    "norm_kids=kids.copy()\n",
    "norm_kids[cont] = scaler.fit_transform(norm_kids[cont])\n",
    "# drop_first=True\n",
    "norm_kids=pd.get_dummies(norm_kids, columns=['genders'])\n",
    "norm_kids.drop(columns=['gender1', 'gender2'], inplace=True)\n",
    "norm_kids"
   ]
  },
  {
   "cell_type": "code",
   "execution_count": 8,
   "metadata": {},
   "outputs": [
    {
     "data": {
      "text/html": [
       "<div>\n",
       "<style scoped>\n",
       "    .dataframe tbody tr th:only-of-type {\n",
       "        vertical-align: middle;\n",
       "    }\n",
       "\n",
       "    .dataframe tbody tr th {\n",
       "        vertical-align: top;\n",
       "    }\n",
       "\n",
       "    .dataframe thead th {\n",
       "        text-align: right;\n",
       "    }\n",
       "</style>\n",
       "<table border=\"1\" class=\"dataframe\">\n",
       "  <thead>\n",
       "    <tr style=\"text-align: right;\">\n",
       "      <th></th>\n",
       "      <th>morekids</th>\n",
       "      <th>age</th>\n",
       "      <th>afam</th>\n",
       "      <th>hispanic</th>\n",
       "      <th>other</th>\n",
       "      <th>work</th>\n",
       "      <th>genders_FF</th>\n",
       "      <th>genders_MF</th>\n",
       "      <th>genders_MM</th>\n",
       "    </tr>\n",
       "  </thead>\n",
       "  <tbody>\n",
       "    <tr>\n",
       "      <th>count</th>\n",
       "      <td>254654.000000</td>\n",
       "      <td>254654.000000</td>\n",
       "      <td>254654.000000</td>\n",
       "      <td>254654.000000</td>\n",
       "      <td>254654.000000</td>\n",
       "      <td>254654.000000</td>\n",
       "      <td>254654.000000</td>\n",
       "      <td>254654.000000</td>\n",
       "      <td>254654.000000</td>\n",
       "    </tr>\n",
       "    <tr>\n",
       "      <th>mean</th>\n",
       "      <td>0.380563</td>\n",
       "      <td>0.670948</td>\n",
       "      <td>0.051662</td>\n",
       "      <td>0.074207</td>\n",
       "      <td>0.056343</td>\n",
       "      <td>0.365737</td>\n",
       "      <td>0.239329</td>\n",
       "      <td>0.494432</td>\n",
       "      <td>0.266240</td>\n",
       "    </tr>\n",
       "    <tr>\n",
       "      <th>std</th>\n",
       "      <td>0.485526</td>\n",
       "      <td>0.241889</td>\n",
       "      <td>0.221345</td>\n",
       "      <td>0.262107</td>\n",
       "      <td>0.230584</td>\n",
       "      <td>0.420525</td>\n",
       "      <td>0.426675</td>\n",
       "      <td>0.499970</td>\n",
       "      <td>0.441992</td>\n",
       "    </tr>\n",
       "    <tr>\n",
       "      <th>min</th>\n",
       "      <td>0.000000</td>\n",
       "      <td>0.000000</td>\n",
       "      <td>0.000000</td>\n",
       "      <td>0.000000</td>\n",
       "      <td>0.000000</td>\n",
       "      <td>0.000000</td>\n",
       "      <td>0.000000</td>\n",
       "      <td>0.000000</td>\n",
       "      <td>0.000000</td>\n",
       "    </tr>\n",
       "    <tr>\n",
       "      <th>25%</th>\n",
       "      <td>0.000000</td>\n",
       "      <td>0.500000</td>\n",
       "      <td>0.000000</td>\n",
       "      <td>0.000000</td>\n",
       "      <td>0.000000</td>\n",
       "      <td>0.000000</td>\n",
       "      <td>0.000000</td>\n",
       "      <td>0.000000</td>\n",
       "      <td>0.000000</td>\n",
       "    </tr>\n",
       "    <tr>\n",
       "      <th>50%</th>\n",
       "      <td>0.000000</td>\n",
       "      <td>0.714286</td>\n",
       "      <td>0.000000</td>\n",
       "      <td>0.000000</td>\n",
       "      <td>0.000000</td>\n",
       "      <td>0.096154</td>\n",
       "      <td>0.000000</td>\n",
       "      <td>0.000000</td>\n",
       "      <td>0.000000</td>\n",
       "    </tr>\n",
       "    <tr>\n",
       "      <th>75%</th>\n",
       "      <td>1.000000</td>\n",
       "      <td>0.857143</td>\n",
       "      <td>0.000000</td>\n",
       "      <td>0.000000</td>\n",
       "      <td>0.000000</td>\n",
       "      <td>0.846154</td>\n",
       "      <td>0.000000</td>\n",
       "      <td>1.000000</td>\n",
       "      <td>1.000000</td>\n",
       "    </tr>\n",
       "    <tr>\n",
       "      <th>max</th>\n",
       "      <td>1.000000</td>\n",
       "      <td>1.000000</td>\n",
       "      <td>1.000000</td>\n",
       "      <td>1.000000</td>\n",
       "      <td>1.000000</td>\n",
       "      <td>1.000000</td>\n",
       "      <td>1.000000</td>\n",
       "      <td>1.000000</td>\n",
       "      <td>1.000000</td>\n",
       "    </tr>\n",
       "  </tbody>\n",
       "</table>\n",
       "</div>"
      ],
      "text/plain": [
       "            morekids            age           afam       hispanic  \\\n",
       "count  254654.000000  254654.000000  254654.000000  254654.000000   \n",
       "mean        0.380563       0.670948       0.051662       0.074207   \n",
       "std         0.485526       0.241889       0.221345       0.262107   \n",
       "min         0.000000       0.000000       0.000000       0.000000   \n",
       "25%         0.000000       0.500000       0.000000       0.000000   \n",
       "50%         0.000000       0.714286       0.000000       0.000000   \n",
       "75%         1.000000       0.857143       0.000000       0.000000   \n",
       "max         1.000000       1.000000       1.000000       1.000000   \n",
       "\n",
       "               other           work     genders_FF     genders_MF  \\\n",
       "count  254654.000000  254654.000000  254654.000000  254654.000000   \n",
       "mean        0.056343       0.365737       0.239329       0.494432   \n",
       "std         0.230584       0.420525       0.426675       0.499970   \n",
       "min         0.000000       0.000000       0.000000       0.000000   \n",
       "25%         0.000000       0.000000       0.000000       0.000000   \n",
       "50%         0.000000       0.096154       0.000000       0.000000   \n",
       "75%         0.000000       0.846154       0.000000       1.000000   \n",
       "max         1.000000       1.000000       1.000000       1.000000   \n",
       "\n",
       "          genders_MM  \n",
       "count  254654.000000  \n",
       "mean        0.266240  \n",
       "std         0.441992  \n",
       "min         0.000000  \n",
       "25%         0.000000  \n",
       "50%         0.000000  \n",
       "75%         1.000000  \n",
       "max         1.000000  "
      ]
     },
     "execution_count": 8,
     "metadata": {},
     "output_type": "execute_result"
    }
   ],
   "source": [
    "norm_kids.describe()"
   ]
  },
  {
   "cell_type": "markdown",
   "metadata": {},
   "source": [
    "### Data splitting "
   ]
  },
  {
   "cell_type": "code",
   "execution_count": 11,
   "metadata": {},
   "outputs": [
    {
     "name": "stdout",
     "output_type": "stream",
     "text": [
      "Xk_train shape:  (178257, 8)\n",
      "Xk_train shape:  (15279, 8)\n",
      "Xk_test shape:  (61118, 8)\n",
      "yk_train shape:  (178257,)\n",
      "yk_train shape:  (15279,)\n",
      "yk_test shape:  (61118,)\n"
     ]
    }
   ],
   "source": [
    "Xk= norm_kids.iloc[:,1:]\n",
    "yk= norm_kids[\"morekids\"]\n",
    "Xk_train, Xk_rem, yk_train, yk_rem = train_test_split(Xk, yk, test_size=0.30, random_state=42)\n",
    "Xk_val, Xk_test, yk_val, yk_test = train_test_split(Xk_rem, yk_rem, test_size=0.8, random_state=42)\n",
    "print(\"Xk_train shape: \",Xk_train.shape)\n",
    "print(\"Xk_train shape: \",Xk_val.shape)\n",
    "print(\"Xk_test shape: \",Xk_test.shape)\n",
    "print(\"yk_train shape: \",yk_train.shape)\n",
    "print(\"yk_train shape: \",yk_val.shape)\n",
    "print(\"yk_test shape: \",yk_test.shape)"
   ]
  },
  {
   "cell_type": "markdown",
   "metadata": {},
   "source": [
    "### Model construction (a decision tree and a random forest)"
   ]
  },
  {
   "cell_type": "code",
   "execution_count": 12,
   "metadata": {},
   "outputs": [
    {
     "name": "stdout",
     "output_type": "stream",
     "text": [
      "0.6473742966615617\n",
      "0.6225538320570718\n"
     ]
    }
   ],
   "source": [
    "#Model construction (a decision tree)\n",
    "from sklearn import tree\n",
    "clfk = tree.DecisionTreeClassifier(random_state=42)\n",
    "clfk = clfk.fit(Xk_train, yk_train)\n",
    "yk_train_pred=clfk.predict(Xk_train)\n",
    "yk_val_pred=clfk.predict(Xk_val)\n",
    "print(accuracy_score(yk_train, yk_train_pred))\n",
    "print(accuracy_score(yk_val, yk_val_pred))"
   ]
  },
  {
   "cell_type": "code",
   "execution_count": 13,
   "metadata": {},
   "outputs": [
    {
     "data": {
      "text/plain": [
       "27"
      ]
     },
     "execution_count": 13,
     "metadata": {},
     "output_type": "execute_result"
    }
   ],
   "source": [
    "maxDepthk=clfk.tree_.max_depth\n",
    "maxDepthk"
   ]
  },
  {
   "cell_type": "code",
   "execution_count": 14,
   "metadata": {},
   "outputs": [
    {
     "name": "stdout",
     "output_type": "stream",
     "text": [
      "0.6473574670279428\n",
      "0.620655802081288\n"
     ]
    }
   ],
   "source": [
    "#Model construction (a random forest)\n",
    "from sklearn.ensemble import RandomForestClassifier\n",
    "clf_rf = RandomForestClassifier(random_state=42)\n",
    "clf_rf.fit(Xk_train, yk_train)\n",
    "rf_y_train_pred=clf_rf.predict(Xk_train)\n",
    "rf_y_val_pred=clf_rf.predict(Xk_val)\n",
    "print(accuracy_score(yk_train, rf_y_train_pred))\n",
    "print(accuracy_score(yk_val, rf_y_val_pred))"
   ]
  },
  {
   "cell_type": "code",
   "execution_count": 15,
   "metadata": {},
   "outputs": [
    {
     "data": {
      "text/plain": [
       "31"
      ]
     },
     "execution_count": 15,
     "metadata": {},
     "output_type": "execute_result"
    }
   ],
   "source": [
    "maxDepthkrf=max([estimator.tree_.max_depth for estimator in clf_rf.estimators_])\n",
    "maxDepthkrf"
   ]
  },
  {
   "cell_type": "code",
   "execution_count": 19,
   "metadata": {},
   "outputs": [
    {
     "data": {
      "image/png": "[encoded data removed]",
      "text/plain": [
       "<Figure size 432x288 with 1 Axes>"
      ]
     },
     "metadata": {
      "needs_background": "light"
     },
     "output_type": "display_data"
    }
   ],
   "source": [
    "parameter_range = np.arange(1, maxDepthkrf+1)\n",
    "train_scores, test_scores = validation_curve(\n",
    "    clfk, Xk_train, yk_train, param_name=\"max_depth\", param_range=parameter_range,\n",
    "    scoring=\"accuracy\")\n",
    "train_scores_mean = 1-np.mean(train_scores, axis=1)\n",
    "test_scores_mean = 1-np.mean(test_scores, axis=1)\n",
    "\n",
    "\n",
    "plt.title(\"Validation Curve\")\n",
    "plt.xlabel(\"Max Depth\")\n",
    "plt.ylabel(\"Error Rate\")\n",
    "plt.xticks(np.arange(1, maxDepthkrf+1, step=1))\n",
    "plt.tight_layout()\n",
    "# Plot mean accuracy scores for training and testing scores\n",
    "plt.plot(parameter_range, train_scores_mean,\n",
    "     label = \"Training Score\", color = 'b')\n",
    "plt.plot(parameter_range, test_scores_mean,\n",
    "   label = \"Testing Score\", color = 'g')\n",
    " \n",
    "# Creating the plot\n",
    "plt.legend(loc=\"best\")\n",
    "plt.show()"
   ]
  },
  {
   "cell_type": "code",
   "execution_count": 20,
   "metadata": {},
   "outputs": [
    {
     "data": {
      "text/html": [
       "<div>\n",
       "<style scoped>\n",
       "    .dataframe tbody tr th:only-of-type {\n",
       "        vertical-align: middle;\n",
       "    }\n",
       "\n",
       "    .dataframe tbody tr th {\n",
       "        vertical-align: top;\n",
       "    }\n",
       "\n",
       "    .dataframe thead th {\n",
       "        text-align: right;\n",
       "    }\n",
       "</style>\n",
       "<table border=\"1\" class=\"dataframe\">\n",
       "  <thead>\n",
       "    <tr style=\"text-align: right;\">\n",
       "      <th></th>\n",
       "      <th>MaxDepth</th>\n",
       "      <th>TrainingError</th>\n",
       "      <th>TestingError</th>\n",
       "    </tr>\n",
       "  </thead>\n",
       "  <tbody>\n",
       "    <tr>\n",
       "      <th>0</th>\n",
       "      <td>1.0</td>\n",
       "      <td>0.380125</td>\n",
       "      <td>0.380125</td>\n",
       "    </tr>\n",
       "    <tr>\n",
       "      <th>1</th>\n",
       "      <td>2.0</td>\n",
       "      <td>0.380125</td>\n",
       "      <td>0.380125</td>\n",
       "    </tr>\n",
       "    <tr>\n",
       "      <th>2</th>\n",
       "      <td>3.0</td>\n",
       "      <td>0.372942</td>\n",
       "      <td>0.372905</td>\n",
       "    </tr>\n",
       "    <tr>\n",
       "      <th>3</th>\n",
       "      <td>4.0</td>\n",
       "      <td>0.371755</td>\n",
       "      <td>0.371890</td>\n",
       "    </tr>\n",
       "    <tr>\n",
       "      <th>4</th>\n",
       "      <td>5.0</td>\n",
       "      <td>0.369305</td>\n",
       "      <td>0.369775</td>\n",
       "    </tr>\n",
       "    <tr>\n",
       "      <th>5</th>\n",
       "      <td>6.0</td>\n",
       "      <td>0.367807</td>\n",
       "      <td>0.368928</td>\n",
       "    </tr>\n",
       "    <tr>\n",
       "      <th>6</th>\n",
       "      <td>7.0</td>\n",
       "      <td>0.365934</td>\n",
       "      <td>0.368619</td>\n",
       "    </tr>\n",
       "    <tr>\n",
       "      <th>7</th>\n",
       "      <td>8.0</td>\n",
       "      <td>0.365015</td>\n",
       "      <td>0.369074</td>\n",
       "    </tr>\n",
       "    <tr>\n",
       "      <th>8</th>\n",
       "      <td>9.0</td>\n",
       "      <td>0.363221</td>\n",
       "      <td>0.368810</td>\n",
       "    </tr>\n",
       "    <tr>\n",
       "      <th>9</th>\n",
       "      <td>10.0</td>\n",
       "      <td>0.361606</td>\n",
       "      <td>0.369854</td>\n",
       "    </tr>\n",
       "    <tr>\n",
       "      <th>10</th>\n",
       "      <td>11.0</td>\n",
       "      <td>0.359875</td>\n",
       "      <td>0.371077</td>\n",
       "    </tr>\n",
       "    <tr>\n",
       "      <th>11</th>\n",
       "      <td>12.0</td>\n",
       "      <td>0.358077</td>\n",
       "      <td>0.372058</td>\n",
       "    </tr>\n",
       "    <tr>\n",
       "      <th>12</th>\n",
       "      <td>13.0</td>\n",
       "      <td>0.356282</td>\n",
       "      <td>0.372580</td>\n",
       "    </tr>\n",
       "    <tr>\n",
       "      <th>13</th>\n",
       "      <td>14.0</td>\n",
       "      <td>0.354823</td>\n",
       "      <td>0.372956</td>\n",
       "    </tr>\n",
       "    <tr>\n",
       "      <th>14</th>\n",
       "      <td>15.0</td>\n",
       "      <td>0.353609</td>\n",
       "      <td>0.373405</td>\n",
       "    </tr>\n",
       "    <tr>\n",
       "      <th>15</th>\n",
       "      <td>16.0</td>\n",
       "      <td>0.352627</td>\n",
       "      <td>0.373876</td>\n",
       "    </tr>\n",
       "    <tr>\n",
       "      <th>16</th>\n",
       "      <td>17.0</td>\n",
       "      <td>0.351924</td>\n",
       "      <td>0.374005</td>\n",
       "    </tr>\n",
       "    <tr>\n",
       "      <th>17</th>\n",
       "      <td>18.0</td>\n",
       "      <td>0.351441</td>\n",
       "      <td>0.374269</td>\n",
       "    </tr>\n",
       "    <tr>\n",
       "      <th>18</th>\n",
       "      <td>19.0</td>\n",
       "      <td>0.351112</td>\n",
       "      <td>0.374381</td>\n",
       "    </tr>\n",
       "    <tr>\n",
       "      <th>19</th>\n",
       "      <td>20.0</td>\n",
       "      <td>0.350889</td>\n",
       "      <td>0.374549</td>\n",
       "    </tr>\n",
       "    <tr>\n",
       "      <th>20</th>\n",
       "      <td>21.0</td>\n",
       "      <td>0.350744</td>\n",
       "      <td>0.374588</td>\n",
       "    </tr>\n",
       "    <tr>\n",
       "      <th>21</th>\n",
       "      <td>22.0</td>\n",
       "      <td>0.350678</td>\n",
       "      <td>0.374622</td>\n",
       "    </tr>\n",
       "    <tr>\n",
       "      <th>22</th>\n",
       "      <td>23.0</td>\n",
       "      <td>0.350637</td>\n",
       "      <td>0.374588</td>\n",
       "    </tr>\n",
       "    <tr>\n",
       "      <th>23</th>\n",
       "      <td>24.0</td>\n",
       "      <td>0.350627</td>\n",
       "      <td>0.374622</td>\n",
       "    </tr>\n",
       "    <tr>\n",
       "      <th>24</th>\n",
       "      <td>25.0</td>\n",
       "      <td>0.350620</td>\n",
       "      <td>0.374678</td>\n",
       "    </tr>\n",
       "    <tr>\n",
       "      <th>25</th>\n",
       "      <td>26.0</td>\n",
       "      <td>0.350616</td>\n",
       "      <td>0.374661</td>\n",
       "    </tr>\n",
       "    <tr>\n",
       "      <th>26</th>\n",
       "      <td>27.0</td>\n",
       "      <td>0.350616</td>\n",
       "      <td>0.374678</td>\n",
       "    </tr>\n",
       "    <tr>\n",
       "      <th>27</th>\n",
       "      <td>28.0</td>\n",
       "      <td>0.350612</td>\n",
       "      <td>0.374695</td>\n",
       "    </tr>\n",
       "    <tr>\n",
       "      <th>28</th>\n",
       "      <td>29.0</td>\n",
       "      <td>0.350610</td>\n",
       "      <td>0.374701</td>\n",
       "    </tr>\n",
       "    <tr>\n",
       "      <th>29</th>\n",
       "      <td>30.0</td>\n",
       "      <td>0.350610</td>\n",
       "      <td>0.374689</td>\n",
       "    </tr>\n",
       "    <tr>\n",
       "      <th>30</th>\n",
       "      <td>31.0</td>\n",
       "      <td>0.350610</td>\n",
       "      <td>0.374689</td>\n",
       "    </tr>\n",
       "  </tbody>\n",
       "</table>\n",
       "</div>"
      ],
      "text/plain": [
       "    MaxDepth  TrainingError  TestingError\n",
       "0        1.0       0.380125      0.380125\n",
       "1        2.0       0.380125      0.380125\n",
       "2        3.0       0.372942      0.372905\n",
       "3        4.0       0.371755      0.371890\n",
       "4        5.0       0.369305      0.369775\n",
       "5        6.0       0.367807      0.368928\n",
       "6        7.0       0.365934      0.368619\n",
       "7        8.0       0.365015      0.369074\n",
       "8        9.0       0.363221      0.368810\n",
       "9       10.0       0.361606      0.369854\n",
       "10      11.0       0.359875      0.371077\n",
       "11      12.0       0.358077      0.372058\n",
       "12      13.0       0.356282      0.372580\n",
       "13      14.0       0.354823      0.372956\n",
       "14      15.0       0.353609      0.373405\n",
       "15      16.0       0.352627      0.373876\n",
       "16      17.0       0.351924      0.374005\n",
       "17      18.0       0.351441      0.374269\n",
       "18      19.0       0.351112      0.374381\n",
       "19      20.0       0.350889      0.374549\n",
       "20      21.0       0.350744      0.374588\n",
       "21      22.0       0.350678      0.374622\n",
       "22      23.0       0.350637      0.374588\n",
       "23      24.0       0.350627      0.374622\n",
       "24      25.0       0.350620      0.374678\n",
       "25      26.0       0.350616      0.374661\n",
       "26      27.0       0.350616      0.374678\n",
       "27      28.0       0.350612      0.374695\n",
       "28      29.0       0.350610      0.374701\n",
       "29      30.0       0.350610      0.374689\n",
       "30      31.0       0.350610      0.374689"
      ]
     },
     "execution_count": 20,
     "metadata": {},
     "output_type": "execute_result"
    }
   ],
   "source": [
    "errorDf=pd.DataFrame(np.array([list(range(1, maxDepthkrf+1)), \n",
    "                               train_scores_mean, test_scores_mean]).T,\n",
    "                    columns=[\"MaxDepth\", \"TrainingError\", \"TestingError\"])\n",
    "errorDf"
   ]
  },
  {
   "cell_type": "markdown",
   "metadata": {},
   "source": [
    "### Hyperparameter turning"
   ]
  },
  {
   "cell_type": "markdown",
   "metadata": {},
   "source": [
    "#### Decision tree"
   ]
  },
  {
   "cell_type": "code",
   "execution_count": 21,
   "metadata": {},
   "outputs": [
    {
     "data": {
      "text/plain": [
       "{'max_depth': 9, 'max_features': 0.4}"
      ]
     },
     "execution_count": 21,
     "metadata": {},
     "output_type": "execute_result"
    }
   ],
   "source": [
    "param_gridk = {'max_depth':range(1, maxDepthk+1),'max_features':[0.2,0.4,0.6,0.8]}\n",
    "clf = tree.DecisionTreeClassifier()\n",
    "grid_searchk = GridSearchCV(clfk, param_gridk, cv=8)\n",
    "grid_searchk.fit(Xk_train, yk_train)\n",
    "grid_searchk.best_params_"
   ]
  },
  {
   "cell_type": "code",
   "execution_count": 22,
   "metadata": {},
   "outputs": [
    {
     "data": {
      "text/plain": [
       "0.36854652675278676"
      ]
     },
     "execution_count": 22,
     "metadata": {},
     "output_type": "execute_result"
    }
   ],
   "source": [
    "1-grid_searchk.best_score_"
   ]
  },
  {
   "cell_type": "markdown",
   "metadata": {},
   "source": [
    "#### Random Forest"
   ]
  },
  {
   "cell_type": "code",
   "execution_count": 23,
   "metadata": {},
   "outputs": [
    {
     "name": "stdout",
     "output_type": "stream",
     "text": [
      "RandomForestClassifier(max_depth=8, random_state=42)\n"
     ]
    },
    {
     "data": {
      "text/plain": [
       "0.36716089690727427"
      ]
     },
     "execution_count": 23,
     "metadata": {},
     "output_type": "execute_result"
    }
   ],
   "source": [
    "param_gridk = {'max_depth':np.arange(1, maxDepthkrf+1)}\n",
    "grid_searchk = GridSearchCV(clf_rf, param_gridk, cv=3)\n",
    "grid_searchk.fit(Xk_train, yk_train)\n",
    "print(grid_searchk.best_estimator_)\n",
    "1-grid_searchk.best_score_"
   ]
  },
  {
   "cell_type": "code",
   "execution_count": 24,
   "metadata": {},
   "outputs": [
    {
     "name": "stdout",
     "output_type": "stream",
     "text": [
      "RandomForestClassifier(max_depth=8, n_estimators=200, random_state=42)\n"
     ]
    },
    {
     "data": {
      "text/plain": [
       "0.36702064996045036"
      ]
     },
     "execution_count": 24,
     "metadata": {},
     "output_type": "execute_result"
    }
   ],
   "source": [
    "param_gridk = {'max_depth':[8], 'n_estimators': [10,50,100,200]}\n",
    "grid_searchk = GridSearchCV(clf_rf, param_gridk, cv=3)\n",
    "grid_searchk.fit(Xk_train, yk_train)\n",
    "print(grid_searchk.best_estimator_)\n",
    "1-grid_searchk.best_score_"
   ]
  },
  {
   "cell_type": "code",
   "execution_count": 25,
   "metadata": {},
   "outputs": [
    {
     "name": "stdout",
     "output_type": "stream",
     "text": [
      "RandomForestClassifier(max_depth=8, n_estimators=200, random_state=42)\n"
     ]
    },
    {
     "data": {
      "text/plain": [
       "0.36702064996045036"
      ]
     },
     "execution_count": 25,
     "metadata": {},
     "output_type": "execute_result"
    }
   ],
   "source": [
    "param_gridk = {'max_depth':[8], 'n_estimators': [200,350,500]}\n",
    "grid_searchk = GridSearchCV(clf_rf, param_gridk, cv=3)\n",
    "grid_searchk.fit(Xk_train, yk_train)\n",
    "print(grid_searchk.best_estimator_)\n",
    "1-grid_searchk.best_score_"
   ]
  },
  {
   "cell_type": "code",
   "execution_count": 26,
   "metadata": {},
   "outputs": [
    {
     "name": "stdout",
     "output_type": "stream",
     "text": [
      "RandomForestClassifier(max_depth=8, max_features=0.4, n_estimators=200,\n",
      "                       random_state=42)\n"
     ]
    },
    {
     "data": {
      "text/plain": [
       "0.36700943020470433"
      ]
     },
     "execution_count": 26,
     "metadata": {},
     "output_type": "execute_result"
    }
   ],
   "source": [
    "param_gridk = {'max_depth':[8], 'n_estimators': [200], 'max_features':[0.2,0.4,0.6,0.8]}\n",
    "grid_searchk = GridSearchCV(clf_rf, param_gridk, cv=3)\n",
    "grid_searchk.fit(Xk_train, yk_train)\n",
    "print(grid_searchk.best_estimator_)\n",
    "1-grid_searchk.best_score_"
   ]
  },
  {
   "cell_type": "markdown",
   "metadata": {},
   "source": [
    "### Model Evaluation "
   ]
  },
  {
   "cell_type": "markdown",
   "metadata": {},
   "source": [
    "Decision tree"
   ]
  },
  {
   "cell_type": "code",
   "execution_count": 27,
   "metadata": {},
   "outputs": [
    {
     "name": "stdout",
     "output_type": "stream",
     "text": [
      "0.6349371974172122\n",
      "0.6301253313262869\n"
     ]
    }
   ],
   "source": [
    "finalDT=tree.DecisionTreeClassifier(max_depth=9, max_features= 0.4, random_state=42)\n",
    "finalDT.fit(Xk_train, yk_train)\n",
    "finalDT_train_pred=finalDT.predict(Xk_train)\n",
    "finalDT_test_pred=finalDT.predict(Xk_test)\n",
    "print(accuracy_score(yk_train, finalDT_train_pred))\n",
    "print(accuracy_score(yk_test, finalDT_test_pred))"
   ]
  },
  {
   "cell_type": "markdown",
   "metadata": {},
   "source": [
    "Random Forest"
   ]
  },
  {
   "cell_type": "code",
   "execution_count": 28,
   "metadata": {},
   "outputs": [
    {
     "name": "stdout",
     "output_type": "stream",
     "text": [
      "0.6360030742130743\n",
      "0.6320560227756143\n"
     ]
    }
   ],
   "source": [
    "finalRF=RandomForestClassifier(max_depth=8, max_features=0.4, n_estimators=200, random_state=42)\n",
    "finalRF.fit(Xk_train, yk_train)\n",
    "finalRF_train_pred=finalRF.predict(Xk_train)\n",
    "finalRF_test_pred=finalRF.predict(Xk_test)\n",
    "print(accuracy_score(yk_train, finalRF_train_pred))\n",
    "print(accuracy_score(yk_test, finalRF_test_pred))"
   ]
  },
  {
   "cell_type": "markdown",
   "metadata": {},
   "source": [
    "### Overfitting? Which model is better for classification for the dataset and why? "
   ]
  },
  {
   "cell_type": "markdown",
   "metadata": {},
   "source": [
    "There does not appear to be overfitting in any of the models. The accuracy score for training and test sets is similar. Decision tree is a simpler model. Also, decision tree takes up less resources. The accuracy scores for both models are similar. Decision tree appears to be the better model. Although normalization of the data and hyper parameter tuning was applied the metrics are not promising. The highest accuracy score achieved was of 63%. "
   ]
  },
  {
   "cell_type": "code",
   "execution_count": null,
   "metadata": {},
   "outputs": [],
   "source": []
  }
 ],
 "metadata": {
  "kernelspec": {
   "display_name": "Python 3",
   "language": "python",
   "name": "python3"
  },
  "language_info": {
   "codemirror_mode": {
    "name": "ipython",
    "version": 3
   },
   "file_extension": ".py",
   "mimetype": "text/x-python",
   "name": "python",
   "nbconvert_exporter": "python",
   "pygments_lexer": "ipython3",
   "version": "3.8.5"
  }
 },
 "nbformat": 4,
 "nbformat_minor": 4
}
